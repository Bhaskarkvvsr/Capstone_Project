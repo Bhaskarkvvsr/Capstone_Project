{
 "cells": [
  {
   "cell_type": "markdown",
   "metadata": {},
   "source": [
    "## Revolut FinCrime Challenge: Data Analysis\n",
    "\n",
    "There will be a notebook for each one of the Machine Learning Pipeline steps:\n",
    "\n",
    "1. Data Analysis\n",
    "2. Feature Engineering\n",
    "3. Feature Selection\n",
    "4. Model Building\n",
    "\n",
    "**This is the notebook for step 1: Data Analysis**\n",
    "\n",
    "\n",
    "## Predicting Fradulent transactions\n",
    "\n",
    "The aim of the project is to build a machine learning model to find the fraudsters and take appropriate actions.\n",
    "\n",
    "![SegmentLocal](fraud.gif \"segment\")\n",
    "\n",
    "### Why is this important? \n",
    "\n",
    "Fraudsters can use our App to steal the other people's money from outside into an account via Top-Up's. So finding them and blocking them is very necessary.\n",
    "\n",
    "\n",
    "**We will analyse the datasets to identify:**\n",
    "\n",
    "1. [Missing values](#missing)<br>\n",
    "2. [Numerical variables](#numvar)<br>\n",
    "3. [Temporal variables](#temvar)<br>\n",
    "4. [Categorical variables](#catvar)<br>\n",
    "7. [Cardinality of the categorical variables](#cardi)<br>\n",
    "8. [Rare Labels](#rarelab)<br>"
   ]
  },
  {
   "cell_type": "code",
   "execution_count": 1,
   "metadata": {},
   "outputs": [
    {
     "name": "stderr",
     "output_type": "stream",
     "text": [
      "UsageError: Line magic function `%` not found.\n"
     ]
    }
   ],
   "source": [
    "# to handle datasets\n",
    "import pandas as pd\n",
    "import numpy as np\n",
    "\n",
    "# for plotting\n",
    "import seaborn as sns\n",
    "import matplotlib.pyplot as plt\n",
    "import matplotlib as mpl\n",
    "mpl.rcParams['figure.dpi'] = 90\n",
    "% matplotlib inline\n",
    "\n",
    "# to display all the columns of the dataframe in the notebook\n",
    "pd.pandas.set_option('display.max_columns', None)\n",
    "\n",
    "# to ignore the warnings\n",
    "import warnings\n",
    "warnings.filterwarnings('ignore')\n",
    "\n",
    "import itertools\n",
    "from itertools import cycle,islice\n",
    "%precision %.2f"
   ]
  },
  {
   "cell_type": "code",
   "execution_count": 2,
   "metadata": {},
   "outputs": [
    {
     "name": "stdout",
     "output_type": "stream",
     "text": [
      "(1068361, 7)\n",
      "(200250, 4)\n",
      "(757, 1)\n"
     ]
    }
   ],
   "source": [
    "# Load the datasets\n",
    "df_transactions = pd.read_csv('../data/transactions.csv')\n",
    "df_users = pd.read_csv('../data/users.csv')\n",
    "df_fraudsters = pd.read_csv('../data/fraudsters.csv')\n",
    "\n",
    "# Rows and Columns in the Datasets\n",
    "print(df_transactions.shape)\n",
    "print(df_users.shape)\n",
    "print(df_fraudsters.shape)"
   ]
  },
  {
   "cell_type": "code",
   "execution_count": 3,
   "metadata": {},
   "outputs": [
    {
     "data": {
      "text/html": [
       "<div>\n",
       "<style scoped>\n",
       "    .dataframe tbody tr th:only-of-type {\n",
       "        vertical-align: middle;\n",
       "    }\n",
       "\n",
       "    .dataframe tbody tr th {\n",
       "        vertical-align: top;\n",
       "    }\n",
       "\n",
       "    .dataframe thead th {\n",
       "        text-align: right;\n",
       "    }\n",
       "</style>\n",
       "<table border=\"1\" class=\"dataframe\">\n",
       "  <thead>\n",
       "    <tr style=\"text-align: right;\">\n",
       "      <th></th>\n",
       "      <th>ID</th>\n",
       "      <th>USER_ID</th>\n",
       "      <th>CREATED_DATE</th>\n",
       "      <th>TYPE</th>\n",
       "      <th>STATE</th>\n",
       "      <th>AMOUNT_GBP</th>\n",
       "      <th>CURRENCY</th>\n",
       "    </tr>\n",
       "  </thead>\n",
       "  <tbody>\n",
       "    <tr>\n",
       "      <td>0</td>\n",
       "      <td>f659b44e-cfdf-48de-bcf3-06f47ef26e9f</td>\n",
       "      <td>fd7f3ff6-0ed6-4a85-a7b5-2f205e0ef72f</td>\n",
       "      <td>2019-04-20 18:04:03.93</td>\n",
       "      <td>CARD_PAYMENT</td>\n",
       "      <td>COMPLETED</td>\n",
       "      <td>13.12</td>\n",
       "      <td>PLN</td>\n",
       "    </tr>\n",
       "    <tr>\n",
       "      <td>1</td>\n",
       "      <td>2ae18b8b-b9bc-4c44-96b1-d43efd8d371d</td>\n",
       "      <td>3979518e-95f7-4b6c-81ae-2f828727d81a</td>\n",
       "      <td>2019-05-03 13:09:57.625</td>\n",
       "      <td>TOPUP</td>\n",
       "      <td>REVERTED</td>\n",
       "      <td>0.01</td>\n",
       "      <td>RON</td>\n",
       "    </tr>\n",
       "    <tr>\n",
       "      <td>2</td>\n",
       "      <td>0162d352-dd18-40ab-b3ee-cf6584c9a238</td>\n",
       "      <td>75aa5388-9c89-4f72-bc54-67501519585b</td>\n",
       "      <td>2019-04-25 15:37:46.837</td>\n",
       "      <td>TOPUP</td>\n",
       "      <td>COMPLETED</td>\n",
       "      <td>10.00</td>\n",
       "      <td>GBP</td>\n",
       "    </tr>\n",
       "    <tr>\n",
       "      <td>3</td>\n",
       "      <td>a4e176f7-49ca-462b-9164-2f0645622148</td>\n",
       "      <td>45598164-6362-4ee4-bd70-ffee3bd1d707</td>\n",
       "      <td>2019-04-28 13:52:15.256</td>\n",
       "      <td>EXCHANGE</td>\n",
       "      <td>COMPLETED</td>\n",
       "      <td>0.11</td>\n",
       "      <td>RON</td>\n",
       "    </tr>\n",
       "    <tr>\n",
       "      <td>4</td>\n",
       "      <td>f6f9135f-fb2b-4a58-bb65-dd9713306a71</td>\n",
       "      <td>5a501ce5-f03c-410d-aabc-434b2cad741d</td>\n",
       "      <td>2019-05-13 16:02:12.081</td>\n",
       "      <td>CARD_PAYMENT</td>\n",
       "      <td>COMPLETED</td>\n",
       "      <td>9.79</td>\n",
       "      <td>EUR</td>\n",
       "    </tr>\n",
       "  </tbody>\n",
       "</table>\n",
       "</div>"
      ],
      "text/plain": [
       "                                     ID                               USER_ID  \\\n",
       "0  f659b44e-cfdf-48de-bcf3-06f47ef26e9f  fd7f3ff6-0ed6-4a85-a7b5-2f205e0ef72f   \n",
       "1  2ae18b8b-b9bc-4c44-96b1-d43efd8d371d  3979518e-95f7-4b6c-81ae-2f828727d81a   \n",
       "2  0162d352-dd18-40ab-b3ee-cf6584c9a238  75aa5388-9c89-4f72-bc54-67501519585b   \n",
       "3  a4e176f7-49ca-462b-9164-2f0645622148  45598164-6362-4ee4-bd70-ffee3bd1d707   \n",
       "4  f6f9135f-fb2b-4a58-bb65-dd9713306a71  5a501ce5-f03c-410d-aabc-434b2cad741d   \n",
       "\n",
       "              CREATED_DATE          TYPE      STATE  AMOUNT_GBP CURRENCY  \n",
       "0   2019-04-20 18:04:03.93  CARD_PAYMENT  COMPLETED       13.12      PLN  \n",
       "1  2019-05-03 13:09:57.625         TOPUP   REVERTED        0.01      RON  \n",
       "2  2019-04-25 15:37:46.837         TOPUP  COMPLETED       10.00      GBP  \n",
       "3  2019-04-28 13:52:15.256      EXCHANGE  COMPLETED        0.11      RON  \n",
       "4  2019-05-13 16:02:12.081  CARD_PAYMENT  COMPLETED        9.79      EUR  "
      ]
     },
     "execution_count": 3,
     "metadata": {},
     "output_type": "execute_result"
    }
   ],
   "source": [
    "# Checking the data\n",
    "df_transactions.head()"
   ]
  },
  {
   "cell_type": "code",
   "execution_count": 4,
   "metadata": {},
   "outputs": [
    {
     "data": {
      "text/html": [
       "<div>\n",
       "<style scoped>\n",
       "    .dataframe tbody tr th:only-of-type {\n",
       "        vertical-align: middle;\n",
       "    }\n",
       "\n",
       "    .dataframe tbody tr th {\n",
       "        vertical-align: top;\n",
       "    }\n",
       "\n",
       "    .dataframe thead th {\n",
       "        text-align: right;\n",
       "    }\n",
       "</style>\n",
       "<table border=\"1\" class=\"dataframe\">\n",
       "  <thead>\n",
       "    <tr style=\"text-align: right;\">\n",
       "      <th></th>\n",
       "      <th>ID</th>\n",
       "      <th>CREATED_DATE</th>\n",
       "      <th>COUNTRY</th>\n",
       "      <th>BIRTH_DATE</th>\n",
       "    </tr>\n",
       "  </thead>\n",
       "  <tbody>\n",
       "    <tr>\n",
       "      <td>0</td>\n",
       "      <td>46f44852-aaa5-4634-aadd-8cc4eefef3c8</td>\n",
       "      <td>2019-04-22 18:30:30.735</td>\n",
       "      <td>BG</td>\n",
       "      <td>1984-10-22</td>\n",
       "    </tr>\n",
       "    <tr>\n",
       "      <td>1</td>\n",
       "      <td>f17dd8af-2edb-4415-a950-d90a1b5e3e5b</td>\n",
       "      <td>2019-04-15 02:44:24.94</td>\n",
       "      <td>IE</td>\n",
       "      <td>1984-11-04</td>\n",
       "    </tr>\n",
       "    <tr>\n",
       "      <td>2</td>\n",
       "      <td>55e6fcef-f573-4c54-8b27-537adc417e19</td>\n",
       "      <td>2019-04-03 16:10:44.53</td>\n",
       "      <td>PL</td>\n",
       "      <td>1977-09-08</td>\n",
       "    </tr>\n",
       "    <tr>\n",
       "      <td>3</td>\n",
       "      <td>dc03019c-9cf1-4081-a70a-6922a44fe393</td>\n",
       "      <td>2019-04-13 14:16:11.928</td>\n",
       "      <td>FR</td>\n",
       "      <td>1992-09-06</td>\n",
       "    </tr>\n",
       "    <tr>\n",
       "      <td>4</td>\n",
       "      <td>bcd967e5-c273-45a7-a7f5-e7c9e3b19b7e</td>\n",
       "      <td>2019-04-03 15:46:43.997</td>\n",
       "      <td>IE</td>\n",
       "      <td>1993-10-22</td>\n",
       "    </tr>\n",
       "  </tbody>\n",
       "</table>\n",
       "</div>"
      ],
      "text/plain": [
       "                                     ID             CREATED_DATE COUNTRY  \\\n",
       "0  46f44852-aaa5-4634-aadd-8cc4eefef3c8  2019-04-22 18:30:30.735      BG   \n",
       "1  f17dd8af-2edb-4415-a950-d90a1b5e3e5b   2019-04-15 02:44:24.94      IE   \n",
       "2  55e6fcef-f573-4c54-8b27-537adc417e19   2019-04-03 16:10:44.53      PL   \n",
       "3  dc03019c-9cf1-4081-a70a-6922a44fe393  2019-04-13 14:16:11.928      FR   \n",
       "4  bcd967e5-c273-45a7-a7f5-e7c9e3b19b7e  2019-04-03 15:46:43.997      IE   \n",
       "\n",
       "   BIRTH_DATE  \n",
       "0  1984-10-22  \n",
       "1  1984-11-04  \n",
       "2  1977-09-08  \n",
       "3  1992-09-06  \n",
       "4  1993-10-22  "
      ]
     },
     "execution_count": 4,
     "metadata": {},
     "output_type": "execute_result"
    }
   ],
   "source": [
    "# Checking the data\n",
    "df_users.head()"
   ]
  },
  {
   "cell_type": "code",
   "execution_count": 5,
   "metadata": {},
   "outputs": [
    {
     "data": {
      "text/html": [
       "<div>\n",
       "<style scoped>\n",
       "    .dataframe tbody tr th:only-of-type {\n",
       "        vertical-align: middle;\n",
       "    }\n",
       "\n",
       "    .dataframe tbody tr th {\n",
       "        vertical-align: top;\n",
       "    }\n",
       "\n",
       "    .dataframe thead th {\n",
       "        text-align: right;\n",
       "    }\n",
       "</style>\n",
       "<table border=\"1\" class=\"dataframe\">\n",
       "  <thead>\n",
       "    <tr style=\"text-align: right;\">\n",
       "      <th></th>\n",
       "      <th>USER_ID</th>\n",
       "    </tr>\n",
       "  </thead>\n",
       "  <tbody>\n",
       "    <tr>\n",
       "      <td>0</td>\n",
       "      <td>2c831c76-2d62-41ce-a240-e12f505d389a</td>\n",
       "    </tr>\n",
       "    <tr>\n",
       "      <td>1</td>\n",
       "      <td>ce2a1146-831e-49a7-aa5f-a3045a2892af</td>\n",
       "    </tr>\n",
       "    <tr>\n",
       "      <td>2</td>\n",
       "      <td>447abe11-f89a-4819-bea2-e7978b1cf560</td>\n",
       "    </tr>\n",
       "    <tr>\n",
       "      <td>3</td>\n",
       "      <td>3a186446-c2fb-474b-a8d8-db362643b3d2</td>\n",
       "    </tr>\n",
       "    <tr>\n",
       "      <td>4</td>\n",
       "      <td>73fa6100-f6f0-4e22-b247-714f4743c125</td>\n",
       "    </tr>\n",
       "  </tbody>\n",
       "</table>\n",
       "</div>"
      ],
      "text/plain": [
       "                                USER_ID\n",
       "0  2c831c76-2d62-41ce-a240-e12f505d389a\n",
       "1  ce2a1146-831e-49a7-aa5f-a3045a2892af\n",
       "2  447abe11-f89a-4819-bea2-e7978b1cf560\n",
       "3  3a186446-c2fb-474b-a8d8-db362643b3d2\n",
       "4  73fa6100-f6f0-4e22-b247-714f4743c125"
      ]
     },
     "execution_count": 5,
     "metadata": {},
     "output_type": "execute_result"
    }
   ],
   "source": [
    "# Checking the data\n",
    "df_fraudsters.head()"
   ]
  },
  {
   "cell_type": "code",
   "execution_count": 6,
   "metadata": {},
   "outputs": [],
   "source": [
    "# Converting the names of the columns to lower case\n",
    "df_transactions.columns = map(str.lower, df_transactions.columns)\n",
    "df_users.columns = map(str.lower, df_users.columns)\n",
    "df_fraudsters.columns = map(str.lower, df_fraudsters.columns)"
   ]
  },
  {
   "cell_type": "code",
   "execution_count": 7,
   "metadata": {},
   "outputs": [
    {
     "data": {
      "text/plain": [
       "Index(['id', 'user_id', 'created_date', 'type', 'state', 'amount_gbp',\n",
       "       'currency'],\n",
       "      dtype='object')"
      ]
     },
     "execution_count": 7,
     "metadata": {},
     "output_type": "execute_result"
    }
   ],
   "source": [
    "# Checking the column names\n",
    "df_transactions.columns"
   ]
  },
  {
   "cell_type": "code",
   "execution_count": 8,
   "metadata": {},
   "outputs": [],
   "source": [
    "df_user_transactions = df_transactions.merge(df_users,how='left',left_on='user_id',right_on='id')"
   ]
  },
  {
   "cell_type": "code",
   "execution_count": 9,
   "metadata": {},
   "outputs": [],
   "source": [
    "# Renaming the columns\n",
    "df_user_transactions.rename({'id_x': 'transaction_id', 'created_date_x': 'transaction_date','created_date_y':'registered_date'}, axis=1, inplace=True)\n",
    "df_user_transactions.drop(['id_y'],axis = 1,inplace=True)"
   ]
  },
  {
   "cell_type": "code",
   "execution_count": 10,
   "metadata": {},
   "outputs": [
    {
     "data": {
      "text/html": [
       "<div>\n",
       "<style scoped>\n",
       "    .dataframe tbody tr th:only-of-type {\n",
       "        vertical-align: middle;\n",
       "    }\n",
       "\n",
       "    .dataframe tbody tr th {\n",
       "        vertical-align: top;\n",
       "    }\n",
       "\n",
       "    .dataframe thead th {\n",
       "        text-align: right;\n",
       "    }\n",
       "</style>\n",
       "<table border=\"1\" class=\"dataframe\">\n",
       "  <thead>\n",
       "    <tr style=\"text-align: right;\">\n",
       "      <th></th>\n",
       "      <th>transaction_id</th>\n",
       "      <th>user_id</th>\n",
       "      <th>transaction_date</th>\n",
       "      <th>type</th>\n",
       "      <th>state</th>\n",
       "      <th>amount_gbp</th>\n",
       "      <th>currency</th>\n",
       "      <th>registered_date</th>\n",
       "      <th>country</th>\n",
       "      <th>birth_date</th>\n",
       "    </tr>\n",
       "  </thead>\n",
       "  <tbody>\n",
       "    <tr>\n",
       "      <td>0</td>\n",
       "      <td>f659b44e-cfdf-48de-bcf3-06f47ef26e9f</td>\n",
       "      <td>fd7f3ff6-0ed6-4a85-a7b5-2f205e0ef72f</td>\n",
       "      <td>2019-04-20 18:04:03.93</td>\n",
       "      <td>CARD_PAYMENT</td>\n",
       "      <td>COMPLETED</td>\n",
       "      <td>13.12</td>\n",
       "      <td>PLN</td>\n",
       "      <td>2019-04-18 10:59:26.974</td>\n",
       "      <td>PL</td>\n",
       "      <td>1959-04-08</td>\n",
       "    </tr>\n",
       "    <tr>\n",
       "      <td>1</td>\n",
       "      <td>2ae18b8b-b9bc-4c44-96b1-d43efd8d371d</td>\n",
       "      <td>3979518e-95f7-4b6c-81ae-2f828727d81a</td>\n",
       "      <td>2019-05-03 13:09:57.625</td>\n",
       "      <td>TOPUP</td>\n",
       "      <td>REVERTED</td>\n",
       "      <td>0.01</td>\n",
       "      <td>RON</td>\n",
       "      <td>2019-05-03 13:03:46.883</td>\n",
       "      <td>RO</td>\n",
       "      <td>1993-08-12</td>\n",
       "    </tr>\n",
       "    <tr>\n",
       "      <td>2</td>\n",
       "      <td>0162d352-dd18-40ab-b3ee-cf6584c9a238</td>\n",
       "      <td>75aa5388-9c89-4f72-bc54-67501519585b</td>\n",
       "      <td>2019-04-25 15:37:46.837</td>\n",
       "      <td>TOPUP</td>\n",
       "      <td>COMPLETED</td>\n",
       "      <td>10.00</td>\n",
       "      <td>GBP</td>\n",
       "      <td>2019-04-25 15:31:00.259</td>\n",
       "      <td>GB</td>\n",
       "      <td>1988-04-21</td>\n",
       "    </tr>\n",
       "    <tr>\n",
       "      <td>3</td>\n",
       "      <td>a4e176f7-49ca-462b-9164-2f0645622148</td>\n",
       "      <td>45598164-6362-4ee4-bd70-ffee3bd1d707</td>\n",
       "      <td>2019-04-28 13:52:15.256</td>\n",
       "      <td>EXCHANGE</td>\n",
       "      <td>COMPLETED</td>\n",
       "      <td>0.11</td>\n",
       "      <td>RON</td>\n",
       "      <td>2019-04-28 13:39:18.9</td>\n",
       "      <td>GB</td>\n",
       "      <td>1997-01-13</td>\n",
       "    </tr>\n",
       "    <tr>\n",
       "      <td>4</td>\n",
       "      <td>f6f9135f-fb2b-4a58-bb65-dd9713306a71</td>\n",
       "      <td>5a501ce5-f03c-410d-aabc-434b2cad741d</td>\n",
       "      <td>2019-05-13 16:02:12.081</td>\n",
       "      <td>CARD_PAYMENT</td>\n",
       "      <td>COMPLETED</td>\n",
       "      <td>9.79</td>\n",
       "      <td>EUR</td>\n",
       "      <td>2019-05-03 10:38:55.607</td>\n",
       "      <td>GB</td>\n",
       "      <td>1999-07-22</td>\n",
       "    </tr>\n",
       "  </tbody>\n",
       "</table>\n",
       "</div>"
      ],
      "text/plain": [
       "                         transaction_id                               user_id  \\\n",
       "0  f659b44e-cfdf-48de-bcf3-06f47ef26e9f  fd7f3ff6-0ed6-4a85-a7b5-2f205e0ef72f   \n",
       "1  2ae18b8b-b9bc-4c44-96b1-d43efd8d371d  3979518e-95f7-4b6c-81ae-2f828727d81a   \n",
       "2  0162d352-dd18-40ab-b3ee-cf6584c9a238  75aa5388-9c89-4f72-bc54-67501519585b   \n",
       "3  a4e176f7-49ca-462b-9164-2f0645622148  45598164-6362-4ee4-bd70-ffee3bd1d707   \n",
       "4  f6f9135f-fb2b-4a58-bb65-dd9713306a71  5a501ce5-f03c-410d-aabc-434b2cad741d   \n",
       "\n",
       "          transaction_date          type      state  amount_gbp currency  \\\n",
       "0   2019-04-20 18:04:03.93  CARD_PAYMENT  COMPLETED       13.12      PLN   \n",
       "1  2019-05-03 13:09:57.625         TOPUP   REVERTED        0.01      RON   \n",
       "2  2019-04-25 15:37:46.837         TOPUP  COMPLETED       10.00      GBP   \n",
       "3  2019-04-28 13:52:15.256      EXCHANGE  COMPLETED        0.11      RON   \n",
       "4  2019-05-13 16:02:12.081  CARD_PAYMENT  COMPLETED        9.79      EUR   \n",
       "\n",
       "           registered_date country  birth_date  \n",
       "0  2019-04-18 10:59:26.974      PL  1959-04-08  \n",
       "1  2019-05-03 13:03:46.883      RO  1993-08-12  \n",
       "2  2019-04-25 15:31:00.259      GB  1988-04-21  \n",
       "3    2019-04-28 13:39:18.9      GB  1997-01-13  \n",
       "4  2019-05-03 10:38:55.607      GB  1999-07-22  "
      ]
     },
     "execution_count": 10,
     "metadata": {},
     "output_type": "execute_result"
    }
   ],
   "source": [
    "df_user_transactions.head()"
   ]
  },
  {
   "cell_type": "code",
   "execution_count": 11,
   "metadata": {},
   "outputs": [
    {
     "name": "stdout",
     "output_type": "stream",
     "text": [
      "<class 'pandas.core.frame.DataFrame'>\n",
      "Int64Index: 1068361 entries, 0 to 1068360\n",
      "Data columns (total 10 columns):\n",
      "transaction_id      1068361 non-null object\n",
      "user_id             1068361 non-null object\n",
      "transaction_date    1068361 non-null object\n",
      "type                1068361 non-null object\n",
      "state               1068361 non-null object\n",
      "amount_gbp          1068361 non-null float64\n",
      "currency            1068361 non-null object\n",
      "registered_date     1068361 non-null object\n",
      "country             1068361 non-null object\n",
      "birth_date          1068361 non-null object\n",
      "dtypes: float64(1), object(9)\n",
      "memory usage: 89.7+ MB\n"
     ]
    }
   ],
   "source": [
    "df_user_transactions.info()"
   ]
  },
  {
   "cell_type": "code",
   "execution_count": 12,
   "metadata": {},
   "outputs": [],
   "source": [
    "# Changing the datatypes of temporal columns to datatime.\n",
    "df_user_transactions[[\"transaction_date\", \"registered_date\", \"birth_date\"]] = df_user_transactions[[\"transaction_date\", \"registered_date\", \"birth_date\"]].apply(pd.to_datetime)"
   ]
  },
  {
   "cell_type": "code",
   "execution_count": 13,
   "metadata": {},
   "outputs": [
    {
     "name": "stdout",
     "output_type": "stream",
     "text": [
      "<class 'pandas.core.frame.DataFrame'>\n",
      "Int64Index: 1068361 entries, 0 to 1068360\n",
      "Data columns (total 3 columns):\n",
      "transaction_date    1068361 non-null datetime64[ns]\n",
      "registered_date     1068361 non-null datetime64[ns]\n",
      "birth_date          1068361 non-null datetime64[ns]\n",
      "dtypes: datetime64[ns](3)\n",
      "memory usage: 32.6 MB\n"
     ]
    }
   ],
   "source": [
    "df_user_transactions[[\"transaction_date\", \"registered_date\", \"birth_date\"]].info()"
   ]
  },
  {
   "cell_type": "code",
   "execution_count": 14,
   "metadata": {},
   "outputs": [
    {
     "name": "stderr",
     "output_type": "stream",
     "text": [
      "C:\\Users\\HP\\Anaconda3\\lib\\site-packages\\ipykernel_launcher.py:5: SettingWithCopyWarning: \n",
      "A value is trying to be set on a copy of a slice from a DataFrame\n",
      "\n",
      "See the caveats in the documentation: http://pandas.pydata.org/pandas-docs/stable/user_guide/indexing.html#returning-a-view-versus-a-copy\n",
      "  \"\"\"\n"
     ]
    }
   ],
   "source": [
    "# Creating the target variable 'is_fraud' by looking for the id's in the fraudsters table.\n",
    "df_user_transactions['is_fraud'] = 0\n",
    "df_fraudsters['is_fraud'] = 1\n",
    "\n",
    "df_user_transactions['is_fraud'] = df_user_transactions['user_id'].isin(df_fraudsters['user_id'])\n",
    "df_user_transactions['is_fraud'][df_user_transactions['is_fraud'] == 1] = 1\n",
    "df_user_transactions['is_fraud'] = df_user_transactions['is_fraud'].astype(int)"
   ]
  },
  {
   "cell_type": "code",
   "execution_count": 15,
   "metadata": {},
   "outputs": [
    {
     "data": {
      "text/html": [
       "<div>\n",
       "<style scoped>\n",
       "    .dataframe tbody tr th:only-of-type {\n",
       "        vertical-align: middle;\n",
       "    }\n",
       "\n",
       "    .dataframe tbody tr th {\n",
       "        vertical-align: top;\n",
       "    }\n",
       "\n",
       "    .dataframe thead th {\n",
       "        text-align: right;\n",
       "    }\n",
       "</style>\n",
       "<table border=\"1\" class=\"dataframe\">\n",
       "  <thead>\n",
       "    <tr style=\"text-align: right;\">\n",
       "      <th></th>\n",
       "      <th>transaction_id</th>\n",
       "      <th>user_id</th>\n",
       "      <th>transaction_date</th>\n",
       "      <th>type</th>\n",
       "      <th>state</th>\n",
       "      <th>amount_gbp</th>\n",
       "      <th>currency</th>\n",
       "      <th>registered_date</th>\n",
       "      <th>country</th>\n",
       "      <th>birth_date</th>\n",
       "      <th>is_fraud</th>\n",
       "    </tr>\n",
       "  </thead>\n",
       "  <tbody>\n",
       "    <tr>\n",
       "      <td>0</td>\n",
       "      <td>f659b44e-cfdf-48de-bcf3-06f47ef26e9f</td>\n",
       "      <td>fd7f3ff6-0ed6-4a85-a7b5-2f205e0ef72f</td>\n",
       "      <td>2019-04-20 18:04:03.930</td>\n",
       "      <td>CARD_PAYMENT</td>\n",
       "      <td>COMPLETED</td>\n",
       "      <td>13.12</td>\n",
       "      <td>PLN</td>\n",
       "      <td>2019-04-18 10:59:26.974</td>\n",
       "      <td>PL</td>\n",
       "      <td>1959-04-08</td>\n",
       "      <td>0</td>\n",
       "    </tr>\n",
       "    <tr>\n",
       "      <td>1</td>\n",
       "      <td>2ae18b8b-b9bc-4c44-96b1-d43efd8d371d</td>\n",
       "      <td>3979518e-95f7-4b6c-81ae-2f828727d81a</td>\n",
       "      <td>2019-05-03 13:09:57.625</td>\n",
       "      <td>TOPUP</td>\n",
       "      <td>REVERTED</td>\n",
       "      <td>0.01</td>\n",
       "      <td>RON</td>\n",
       "      <td>2019-05-03 13:03:46.883</td>\n",
       "      <td>RO</td>\n",
       "      <td>1993-08-12</td>\n",
       "      <td>0</td>\n",
       "    </tr>\n",
       "    <tr>\n",
       "      <td>2</td>\n",
       "      <td>0162d352-dd18-40ab-b3ee-cf6584c9a238</td>\n",
       "      <td>75aa5388-9c89-4f72-bc54-67501519585b</td>\n",
       "      <td>2019-04-25 15:37:46.837</td>\n",
       "      <td>TOPUP</td>\n",
       "      <td>COMPLETED</td>\n",
       "      <td>10.00</td>\n",
       "      <td>GBP</td>\n",
       "      <td>2019-04-25 15:31:00.259</td>\n",
       "      <td>GB</td>\n",
       "      <td>1988-04-21</td>\n",
       "      <td>0</td>\n",
       "    </tr>\n",
       "    <tr>\n",
       "      <td>3</td>\n",
       "      <td>a4e176f7-49ca-462b-9164-2f0645622148</td>\n",
       "      <td>45598164-6362-4ee4-bd70-ffee3bd1d707</td>\n",
       "      <td>2019-04-28 13:52:15.256</td>\n",
       "      <td>EXCHANGE</td>\n",
       "      <td>COMPLETED</td>\n",
       "      <td>0.11</td>\n",
       "      <td>RON</td>\n",
       "      <td>2019-04-28 13:39:18.900</td>\n",
       "      <td>GB</td>\n",
       "      <td>1997-01-13</td>\n",
       "      <td>0</td>\n",
       "    </tr>\n",
       "    <tr>\n",
       "      <td>4</td>\n",
       "      <td>f6f9135f-fb2b-4a58-bb65-dd9713306a71</td>\n",
       "      <td>5a501ce5-f03c-410d-aabc-434b2cad741d</td>\n",
       "      <td>2019-05-13 16:02:12.081</td>\n",
       "      <td>CARD_PAYMENT</td>\n",
       "      <td>COMPLETED</td>\n",
       "      <td>9.79</td>\n",
       "      <td>EUR</td>\n",
       "      <td>2019-05-03 10:38:55.607</td>\n",
       "      <td>GB</td>\n",
       "      <td>1999-07-22</td>\n",
       "      <td>0</td>\n",
       "    </tr>\n",
       "  </tbody>\n",
       "</table>\n",
       "</div>"
      ],
      "text/plain": [
       "                         transaction_id                               user_id  \\\n",
       "0  f659b44e-cfdf-48de-bcf3-06f47ef26e9f  fd7f3ff6-0ed6-4a85-a7b5-2f205e0ef72f   \n",
       "1  2ae18b8b-b9bc-4c44-96b1-d43efd8d371d  3979518e-95f7-4b6c-81ae-2f828727d81a   \n",
       "2  0162d352-dd18-40ab-b3ee-cf6584c9a238  75aa5388-9c89-4f72-bc54-67501519585b   \n",
       "3  a4e176f7-49ca-462b-9164-2f0645622148  45598164-6362-4ee4-bd70-ffee3bd1d707   \n",
       "4  f6f9135f-fb2b-4a58-bb65-dd9713306a71  5a501ce5-f03c-410d-aabc-434b2cad741d   \n",
       "\n",
       "         transaction_date          type      state  amount_gbp currency  \\\n",
       "0 2019-04-20 18:04:03.930  CARD_PAYMENT  COMPLETED       13.12      PLN   \n",
       "1 2019-05-03 13:09:57.625         TOPUP   REVERTED        0.01      RON   \n",
       "2 2019-04-25 15:37:46.837         TOPUP  COMPLETED       10.00      GBP   \n",
       "3 2019-04-28 13:52:15.256      EXCHANGE  COMPLETED        0.11      RON   \n",
       "4 2019-05-13 16:02:12.081  CARD_PAYMENT  COMPLETED        9.79      EUR   \n",
       "\n",
       "          registered_date country birth_date  is_fraud  \n",
       "0 2019-04-18 10:59:26.974      PL 1959-04-08         0  \n",
       "1 2019-05-03 13:03:46.883      RO 1993-08-12         0  \n",
       "2 2019-04-25 15:31:00.259      GB 1988-04-21         0  \n",
       "3 2019-04-28 13:39:18.900      GB 1997-01-13         0  \n",
       "4 2019-05-03 10:38:55.607      GB 1999-07-22         0  "
      ]
     },
     "execution_count": 15,
     "metadata": {},
     "output_type": "execute_result"
    }
   ],
   "source": [
    "df_user_transactions.head()"
   ]
  },
  {
   "cell_type": "markdown",
   "metadata": {},
   "source": [
    "### Missing Values\n",
    "<a id=\"missing\"></a>"
   ]
  },
  {
   "cell_type": "code",
   "execution_count": 16,
   "metadata": {},
   "outputs": [
    {
     "data": {
      "text/plain": [
       "transaction_id      0\n",
       "user_id             0\n",
       "transaction_date    0\n",
       "type                0\n",
       "state               0\n",
       "amount_gbp          0\n",
       "currency            0\n",
       "registered_date     0\n",
       "country             0\n",
       "birth_date          0\n",
       "is_fraud            0\n",
       "dtype: int64"
      ]
     },
     "execution_count": 16,
     "metadata": {},
     "output_type": "execute_result"
    }
   ],
   "source": [
    "# make a list of the variables that contain missing values\n",
    "df_user_transactions.isnull().sum()"
   ]
  },
  {
   "cell_type": "markdown",
   "metadata": {},
   "source": [
    "### Numerical Variables\n",
    "<a id=\"numvar\"></a>\n",
    "\n",
    "Let's go ahead and find the distribution of the continuous variables. We will consider continuous all those that are not temporal or discrete variables in our dataset."
   ]
  },
  {
   "cell_type": "code",
   "execution_count": 17,
   "metadata": {},
   "outputs": [],
   "source": [
    "cont_vars = [var for var in df_user_transactions.columns if df_user_transactions[var].dtypes!='O' and 'date' not in var and var!='is_fraud']"
   ]
  },
  {
   "cell_type": "code",
   "execution_count": 18,
   "metadata": {},
   "outputs": [
    {
     "data": {
      "text/plain": [
       "['amount_gbp']"
      ]
     },
     "execution_count": 18,
     "metadata": {},
     "output_type": "execute_result"
    }
   ],
   "source": [
    "cont_vars"
   ]
  },
  {
   "cell_type": "code",
   "execution_count": 19,
   "metadata": {},
   "outputs": [
    {
     "data": {
      "text/plain": [
       "count   1,068,361\n",
       "mean           34\n",
       "std           235\n",
       "min             0\n",
       "25%             0\n",
       "50%             8\n",
       "75%            17\n",
       "max        83,251\n",
       "Name: amount_gbp, dtype: float64"
      ]
     },
     "execution_count": 19,
     "metadata": {},
     "output_type": "execute_result"
    }
   ],
   "source": [
    "pd.options.display.float_format = '{:,.0f}'.format\n",
    "df_user_transactions['amount_gbp'].describe()"
   ]
  },
  {
   "cell_type": "code",
   "execution_count": 20,
   "metadata": {},
   "outputs": [
    {
     "data": {
      "text/plain": [
       "<matplotlib.axes._subplots.AxesSubplot at 0x1a3c37957c8>"
      ]
     },
     "execution_count": 20,
     "metadata": {},
     "output_type": "execute_result"
    },
    {
     "data": {
      "image/png": "[encoded data removed]",
      "text/plain": [
       "<Figure size 432x288 with 1 Axes>"
      ]
     },
     "metadata": {
      "needs_background": "light"
     },
     "output_type": "display_data"
    }
   ],
   "source": [
    "df_user_transactions.boxplot(column = ['amount_gbp']) # Box plot"
   ]
  },
  {
   "cell_type": "markdown",
   "metadata": {},
   "source": [
    "There are few transactions where amounts are significantly higher."
   ]
  },
  {
   "cell_type": "markdown",
   "metadata": {},
   "source": [
    "### Temporal variables\n",
    "<a id=\"temvar\"></a>"
   ]
  },
  {
   "cell_type": "code",
   "execution_count": 21,
   "metadata": {},
   "outputs": [
    {
     "data": {
      "text/plain": [
       "['transaction_date', 'registered_date', 'birth_date']"
      ]
     },
     "execution_count": 21,
     "metadata": {},
     "output_type": "execute_result"
    }
   ],
   "source": [
    "# list of variables that contain date information\n",
    "date_vars = [var for var in df_user_transactions.columns if 'date' in var]\n",
    "\n",
    "date_vars"
   ]
  },
  {
   "cell_type": "markdown",
   "metadata": {},
   "source": [
    "In the next notebook(Step2_FeatureEngineering) I tried to create some new features from these raw variables."
   ]
  },
  {
   "cell_type": "markdown",
   "metadata": {},
   "source": [
    "### Categorical Variables\n",
    "<a id=\"catvar\"></a>\n",
    "\n",
    "Let's go ahead and find which variables are categorical."
   ]
  },
  {
   "cell_type": "code",
   "execution_count": 22,
   "metadata": {},
   "outputs": [
    {
     "name": "stdout",
     "output_type": "stream",
     "text": [
      "Number of categorical variables:  6\n"
     ]
    }
   ],
   "source": [
    "### Categorical variables\n",
    "\n",
    "cat_vars = [var for var in df_user_transactions.columns if df_user_transactions[var].dtypes=='O' and 'date' not in var]\n",
    "\n",
    "print('Number of categorical variables: ', len(cat_vars))"
   ]
  },
  {
   "cell_type": "code",
   "execution_count": 23,
   "metadata": {},
   "outputs": [
    {
     "data": {
      "text/html": [
       "<div>\n",
       "<style scoped>\n",
       "    .dataframe tbody tr th:only-of-type {\n",
       "        vertical-align: middle;\n",
       "    }\n",
       "\n",
       "    .dataframe tbody tr th {\n",
       "        vertical-align: top;\n",
       "    }\n",
       "\n",
       "    .dataframe thead th {\n",
       "        text-align: right;\n",
       "    }\n",
       "</style>\n",
       "<table border=\"1\" class=\"dataframe\">\n",
       "  <thead>\n",
       "    <tr style=\"text-align: right;\">\n",
       "      <th></th>\n",
       "      <th>transaction_id</th>\n",
       "      <th>user_id</th>\n",
       "      <th>type</th>\n",
       "      <th>state</th>\n",
       "      <th>currency</th>\n",
       "      <th>country</th>\n",
       "    </tr>\n",
       "  </thead>\n",
       "  <tbody>\n",
       "    <tr>\n",
       "      <td>0</td>\n",
       "      <td>f659b44e-cfdf-48de-bcf3-06f47ef26e9f</td>\n",
       "      <td>fd7f3ff6-0ed6-4a85-a7b5-2f205e0ef72f</td>\n",
       "      <td>CARD_PAYMENT</td>\n",
       "      <td>COMPLETED</td>\n",
       "      <td>PLN</td>\n",
       "      <td>PL</td>\n",
       "    </tr>\n",
       "    <tr>\n",
       "      <td>1</td>\n",
       "      <td>2ae18b8b-b9bc-4c44-96b1-d43efd8d371d</td>\n",
       "      <td>3979518e-95f7-4b6c-81ae-2f828727d81a</td>\n",
       "      <td>TOPUP</td>\n",
       "      <td>REVERTED</td>\n",
       "      <td>RON</td>\n",
       "      <td>RO</td>\n",
       "    </tr>\n",
       "    <tr>\n",
       "      <td>2</td>\n",
       "      <td>0162d352-dd18-40ab-b3ee-cf6584c9a238</td>\n",
       "      <td>75aa5388-9c89-4f72-bc54-67501519585b</td>\n",
       "      <td>TOPUP</td>\n",
       "      <td>COMPLETED</td>\n",
       "      <td>GBP</td>\n",
       "      <td>GB</td>\n",
       "    </tr>\n",
       "    <tr>\n",
       "      <td>3</td>\n",
       "      <td>a4e176f7-49ca-462b-9164-2f0645622148</td>\n",
       "      <td>45598164-6362-4ee4-bd70-ffee3bd1d707</td>\n",
       "      <td>EXCHANGE</td>\n",
       "      <td>COMPLETED</td>\n",
       "      <td>RON</td>\n",
       "      <td>GB</td>\n",
       "    </tr>\n",
       "    <tr>\n",
       "      <td>4</td>\n",
       "      <td>f6f9135f-fb2b-4a58-bb65-dd9713306a71</td>\n",
       "      <td>5a501ce5-f03c-410d-aabc-434b2cad741d</td>\n",
       "      <td>CARD_PAYMENT</td>\n",
       "      <td>COMPLETED</td>\n",
       "      <td>EUR</td>\n",
       "      <td>GB</td>\n",
       "    </tr>\n",
       "  </tbody>\n",
       "</table>\n",
       "</div>"
      ],
      "text/plain": [
       "                         transaction_id                               user_id  \\\n",
       "0  f659b44e-cfdf-48de-bcf3-06f47ef26e9f  fd7f3ff6-0ed6-4a85-a7b5-2f205e0ef72f   \n",
       "1  2ae18b8b-b9bc-4c44-96b1-d43efd8d371d  3979518e-95f7-4b6c-81ae-2f828727d81a   \n",
       "2  0162d352-dd18-40ab-b3ee-cf6584c9a238  75aa5388-9c89-4f72-bc54-67501519585b   \n",
       "3  a4e176f7-49ca-462b-9164-2f0645622148  45598164-6362-4ee4-bd70-ffee3bd1d707   \n",
       "4  f6f9135f-fb2b-4a58-bb65-dd9713306a71  5a501ce5-f03c-410d-aabc-434b2cad741d   \n",
       "\n",
       "           type      state currency country  \n",
       "0  CARD_PAYMENT  COMPLETED      PLN      PL  \n",
       "1         TOPUP   REVERTED      RON      RO  \n",
       "2         TOPUP  COMPLETED      GBP      GB  \n",
       "3      EXCHANGE  COMPLETED      RON      GB  \n",
       "4  CARD_PAYMENT  COMPLETED      EUR      GB  "
      ]
     },
     "execution_count": 23,
     "metadata": {},
     "output_type": "execute_result"
    }
   ],
   "source": [
    "# let's visualise the discrete variables\n",
    "df_user_transactions[cat_vars].head()"
   ]
  },
  {
   "cell_type": "markdown",
   "metadata": {},
   "source": [
    "#### Number of labels: cardinality\n",
    "\n",
    "Let's evaluate how many different categories are present in each of the variables."
   ]
  },
  {
   "cell_type": "code",
   "execution_count": 24,
   "metadata": {},
   "outputs": [
    {
     "name": "stdout",
     "output_type": "stream",
     "text": [
      "transaction_id has 1068361  categories\n",
      "user_id has 200250  categories\n",
      "type has 6  categories\n",
      "state has 4  categories\n",
      "currency has 110  categories\n",
      "country has 57  categories\n"
     ]
    }
   ],
   "source": [
    "for var in cat_vars:\n",
    "    print(var, 'has',len(df_user_transactions[var].unique()), ' categories')"
   ]
  },
  {
   "cell_type": "markdown",
   "metadata": {},
   "source": [
    "As we can see that transacition_id and user_id has significantly high dimensions, we don't consider them while building the model."
   ]
  },
  {
   "cell_type": "code",
   "execution_count": 36,
   "metadata": {},
   "outputs": [],
   "source": [
    "def analyse_categorical(df, var):\n",
    "    \"\"\"\n",
    "    Plotting the distribution of categorical variables.\n",
    "    \n",
    "    \"\"\"\n",
    "    if var not in ['transaction_id','user_id']:\n",
    "        df[df['is_fraud'] == 1].groupby(var).count()[\"is_fraud\"].plot(kind = \"bar\",color='green')\n",
    "        plt.show()"
   ]
  },
  {
   "cell_type": "code",
   "execution_count": 37,
   "metadata": {},
   "outputs": [
    {
     "data": {
      "image/png": "[encoded data removed]",
      "text/plain": [
       "<Figure size 432x288 with 1 Axes>"
      ]
     },
     "metadata": {},
     "output_type": "display_data"
    },
    {
     "data": {
      "image/png": "[encoded data removed]",
      "text/plain": [
       "<Figure size 432x288 with 1 Axes>"
      ]
     },
     "metadata": {},
     "output_type": "display_data"
    },
    {
     "data": {
      "image/png": "[encoded data removed]",
      "text/plain": [
       "<Figure size 432x288 with 1 Axes>"
      ]
     },
     "metadata": {},
     "output_type": "display_data"
    }
   ],
   "source": [
    "for var in ['type','state','country']:\n",
    "    analyse_categorical(df_user_transactions, var)"
   ]
  },
  {
   "cell_type": "markdown",
   "metadata": {},
   "source": [
    "From the above plots we can observe the following\n",
    " -  Fraud transactions are happening more through TOP-UP( while receiving money externally into a Revolut account) followed by a TRANSFER(sending money externally into a bank account) types.\n",
    " -  Fraud transactions are happening more in Great Britain, France and Italy.\n",
    " -  Most of the feaud transactions are completed."
   ]
  },
  {
   "cell_type": "markdown",
   "metadata": {},
   "source": [
    "But from these we cannout deduce the conclusions as it might be the case that most of the transactions are happening through TOP-UP and hence the number of frauds are high in that. So lets compare the percentage of non-fradulent vs fradulent transactions for each of these categories."
   ]
  },
  {
   "cell_type": "code",
   "execution_count": 38,
   "metadata": {},
   "outputs": [],
   "source": [
    "def percentage_distribution(df,var):\n",
    "    \"\"\"\n",
    "    Plotting the percentage distrubution of each variable.\n",
    "    \"\"\"\n",
    "    counter = df.groupby(var)['is_fraud'].value_counts().unstack()\n",
    "    percentage_dist = 100 * counter.divide(counter.sum(axis = 1), axis = 0)\n",
    "    percentage_dist = percentage_dist[percentage_dist> 0]\n",
    "    ax = percentage_dist.plot.bar(stacked=True,rot = 0,figsize = (15,5))\n",
    "    plt.legend(bbox_to_anchor=(0, 1), loc='upper right', ncol=1)\n",
    "    sns.set(font_scale=1)\n",
    "    for p in ax.patches:\n",
    "        width, height = p.get_width(), p.get_height()\n",
    "        x, y = p.get_xy() \n",
    "        ax.text(x+width/2, \n",
    "                y+height/2, \n",
    "                '{:.2f} %'.format(height), \n",
    "                horizontalalignment='center', \n",
    "                verticalalignment='center')"
   ]
  },
  {
   "cell_type": "code",
   "execution_count": 127,
   "metadata": {},
   "outputs": [
    {
     "data": {
      "image/png": "[encoded data removed]",
      "text/plain": [
       "<Figure size 1080x360 with 1 Axes>"
      ]
     },
     "metadata": {},
     "output_type": "display_data"
    },
    {
     "data": {
      "image/png": "[encoded data removed]",
      "text/plain": [
       "<Figure size 1080x360 with 1 Axes>"
      ]
     },
     "metadata": {},
     "output_type": "display_data"
    }
   ],
   "source": [
    "for var in ['type','state']:\n",
    "    percentage_distribution(df_user_transactions, var)"
   ]
  },
  {
   "attachments": {},
   "cell_type": "markdown",
   "metadata": {},
   "source": [
    "From the above graph's we can infer that percentage of feaud transactions are high in 'ATM' and 'TRANSFER' category compared to 'TOP-UP'."
   ]
  },
  {
   "cell_type": "markdown",
   "metadata": {},
   "source": [
    "Let's analyse 'country' variable in detail."
   ]
  },
  {
   "cell_type": "code",
   "execution_count": 135,
   "metadata": {},
   "outputs": [
    {
     "data": {
      "text/html": [
       "<div>\n",
       "<style scoped>\n",
       "    .dataframe tbody tr th:only-of-type {\n",
       "        vertical-align: middle;\n",
       "    }\n",
       "\n",
       "    .dataframe tbody tr th {\n",
       "        vertical-align: top;\n",
       "    }\n",
       "\n",
       "    .dataframe thead th {\n",
       "        text-align: right;\n",
       "    }\n",
       "</style>\n",
       "<table border=\"1\" class=\"dataframe\">\n",
       "  <thead>\n",
       "    <tr style=\"text-align: right;\">\n",
       "      <th>is_fraud</th>\n",
       "      <th>0</th>\n",
       "      <th>1</th>\n",
       "    </tr>\n",
       "    <tr>\n",
       "      <th>country</th>\n",
       "      <th></th>\n",
       "      <th></th>\n",
       "    </tr>\n",
       "  </thead>\n",
       "  <tbody>\n",
       "    <tr>\n",
       "      <td>GP</td>\n",
       "      <td>93.50%</td>\n",
       "      <td>6.50%</td>\n",
       "    </tr>\n",
       "    <tr>\n",
       "      <td>IT</td>\n",
       "      <td>96.45%</td>\n",
       "      <td>3.55%</td>\n",
       "    </tr>\n",
       "    <tr>\n",
       "      <td>RE</td>\n",
       "      <td>97.58%</td>\n",
       "      <td>2.42%</td>\n",
       "    </tr>\n",
       "    <tr>\n",
       "      <td>FR</td>\n",
       "      <td>97.90%</td>\n",
       "      <td>2.10%</td>\n",
       "    </tr>\n",
       "    <tr>\n",
       "      <td>NL</td>\n",
       "      <td>98.01%</td>\n",
       "      <td>1.99%</td>\n",
       "    </tr>\n",
       "    <tr>\n",
       "      <td>GB</td>\n",
       "      <td>98.37%</td>\n",
       "      <td>1.63%</td>\n",
       "    </tr>\n",
       "    <tr>\n",
       "      <td>BE</td>\n",
       "      <td>98.67%</td>\n",
       "      <td>1.33%</td>\n",
       "    </tr>\n",
       "    <tr>\n",
       "      <td>DE</td>\n",
       "      <td>99.45%</td>\n",
       "      <td>0.55%</td>\n",
       "    </tr>\n",
       "    <tr>\n",
       "      <td>SK</td>\n",
       "      <td>99.49%</td>\n",
       "      <td>0.51%</td>\n",
       "    </tr>\n",
       "    <tr>\n",
       "      <td>DK</td>\n",
       "      <td>99.54%</td>\n",
       "      <td>0.46%</td>\n",
       "    </tr>\n",
       "    <tr>\n",
       "      <td>JE</td>\n",
       "      <td>99.62%</td>\n",
       "      <td>0.38%</td>\n",
       "    </tr>\n",
       "    <tr>\n",
       "      <td>SI</td>\n",
       "      <td>99.64%</td>\n",
       "      <td>0.36%</td>\n",
       "    </tr>\n",
       "    <tr>\n",
       "      <td>EE</td>\n",
       "      <td>99.74%</td>\n",
       "      <td>0.26%</td>\n",
       "    </tr>\n",
       "    <tr>\n",
       "      <td>AT</td>\n",
       "      <td>99.85%</td>\n",
       "      <td>0.15%</td>\n",
       "    </tr>\n",
       "    <tr>\n",
       "      <td>PT</td>\n",
       "      <td>99.87%</td>\n",
       "      <td>0.13%</td>\n",
       "    </tr>\n",
       "    <tr>\n",
       "      <td>CY</td>\n",
       "      <td>99.88%</td>\n",
       "      <td>0.12%</td>\n",
       "    </tr>\n",
       "    <tr>\n",
       "      <td>LV</td>\n",
       "      <td>99.89%</td>\n",
       "      <td>0.11%</td>\n",
       "    </tr>\n",
       "    <tr>\n",
       "      <td>BG</td>\n",
       "      <td>99.90%</td>\n",
       "      <td>0.10%</td>\n",
       "    </tr>\n",
       "    <tr>\n",
       "      <td>IE</td>\n",
       "      <td>99.90%</td>\n",
       "      <td>0.10%</td>\n",
       "    </tr>\n",
       "    <tr>\n",
       "      <td>ES</td>\n",
       "      <td>99.91%</td>\n",
       "      <td>0.09%</td>\n",
       "    </tr>\n",
       "    <tr>\n",
       "      <td>LT</td>\n",
       "      <td>99.91%</td>\n",
       "      <td>0.09%</td>\n",
       "    </tr>\n",
       "    <tr>\n",
       "      <td>MT</td>\n",
       "      <td>99.93%</td>\n",
       "      <td>0.07%</td>\n",
       "    </tr>\n",
       "    <tr>\n",
       "      <td>SE</td>\n",
       "      <td>99.95%</td>\n",
       "      <td>0.05%</td>\n",
       "    </tr>\n",
       "    <tr>\n",
       "      <td>RO</td>\n",
       "      <td>99.97%</td>\n",
       "      <td>0.03%</td>\n",
       "    </tr>\n",
       "    <tr>\n",
       "      <td>PL</td>\n",
       "      <td>99.97%</td>\n",
       "      <td>0.03%</td>\n",
       "    </tr>\n",
       "  </tbody>\n",
       "</table>\n",
       "</div>"
      ],
      "text/plain": [
       "is_fraud      0     1\n",
       "country              \n",
       "GP       93.50% 6.50%\n",
       "IT       96.45% 3.55%\n",
       "RE       97.58% 2.42%\n",
       "FR       97.90% 2.10%\n",
       "NL       98.01% 1.99%\n",
       "GB       98.37% 1.63%\n",
       "BE       98.67% 1.33%\n",
       "DE       99.45% 0.55%\n",
       "SK       99.49% 0.51%\n",
       "DK       99.54% 0.46%\n",
       "JE       99.62% 0.38%\n",
       "SI       99.64% 0.36%\n",
       "EE       99.74% 0.26%\n",
       "AT       99.85% 0.15%\n",
       "PT       99.87% 0.13%\n",
       "CY       99.88% 0.12%\n",
       "LV       99.89% 0.11%\n",
       "BG       99.90% 0.10%\n",
       "IE       99.90% 0.10%\n",
       "ES       99.91% 0.09%\n",
       "LT       99.91% 0.09%\n",
       "MT       99.93% 0.07%\n",
       "SE       99.95% 0.05%\n",
       "RO       99.97% 0.03%\n",
       "PL       99.97% 0.03%"
      ]
     },
     "execution_count": 135,
     "metadata": {},
     "output_type": "execute_result"
    }
   ],
   "source": [
    "pd.options.display.float_format = '{:,.2f}%'.format\n",
    "counter = df_user_transactions.groupby('country')['is_fraud'].value_counts().unstack()\n",
    "#calculate the % for each group \n",
    "percentage_dist = 100 * counter.divide(counter.sum(axis = 1), axis = 0)\n",
    "percentage_dist[percentage_dist[1]>0].sort_values(1,ascending=False)"
   ]
  },
  {
   "cell_type": "markdown",
   "metadata": {},
   "source": [
    "From the above table we can infer that countries 'GP'(Guadeloupe),'IT'(Italy),'RE'(Reunion),'FR'(France),'NL'(Holland),'GB'(Great Britain),'DE'(Germany) have the highest fraud rate compared to others."
   ]
  },
  {
   "cell_type": "markdown",
   "metadata": {},
   "source": [
    "Let's analyse 'country' variable in detail."
   ]
  },
  {
   "cell_type": "code",
   "execution_count": 130,
   "metadata": {},
   "outputs": [
    {
     "data": {
      "text/html": [
       "<div>\n",
       "<style scoped>\n",
       "    .dataframe tbody tr th:only-of-type {\n",
       "        vertical-align: middle;\n",
       "    }\n",
       "\n",
       "    .dataframe tbody tr th {\n",
       "        vertical-align: top;\n",
       "    }\n",
       "\n",
       "    .dataframe thead th {\n",
       "        text-align: right;\n",
       "    }\n",
       "</style>\n",
       "<table border=\"1\" class=\"dataframe\">\n",
       "  <thead>\n",
       "    <tr style=\"text-align: right;\">\n",
       "      <th>is_fraud</th>\n",
       "      <th>0</th>\n",
       "      <th>1</th>\n",
       "    </tr>\n",
       "    <tr>\n",
       "      <th>currency</th>\n",
       "      <th></th>\n",
       "      <th></th>\n",
       "    </tr>\n",
       "  </thead>\n",
       "  <tbody>\n",
       "    <tr>\n",
       "      <td>XOF</td>\n",
       "      <td>81.82%</td>\n",
       "      <td>18.18%</td>\n",
       "    </tr>\n",
       "    <tr>\n",
       "      <td>GBP</td>\n",
       "      <td>97.93%</td>\n",
       "      <td>2.07%</td>\n",
       "    </tr>\n",
       "    <tr>\n",
       "      <td>AED</td>\n",
       "      <td>98.04%</td>\n",
       "      <td>1.96%</td>\n",
       "    </tr>\n",
       "    <tr>\n",
       "      <td>MAD</td>\n",
       "      <td>98.42%</td>\n",
       "      <td>1.58%</td>\n",
       "    </tr>\n",
       "    <tr>\n",
       "      <td>MDL</td>\n",
       "      <td>98.94%</td>\n",
       "      <td>1.06%</td>\n",
       "    </tr>\n",
       "    <tr>\n",
       "      <td>BRL</td>\n",
       "      <td>99.13%</td>\n",
       "      <td>0.87%</td>\n",
       "    </tr>\n",
       "    <tr>\n",
       "      <td>SAR</td>\n",
       "      <td>99.22%</td>\n",
       "      <td>0.78%</td>\n",
       "    </tr>\n",
       "    <tr>\n",
       "      <td>EUR</td>\n",
       "      <td>99.25%</td>\n",
       "      <td>0.75%</td>\n",
       "    </tr>\n",
       "    <tr>\n",
       "      <td>BTC</td>\n",
       "      <td>99.36%</td>\n",
       "      <td>0.64%</td>\n",
       "    </tr>\n",
       "    <tr>\n",
       "      <td>UAH</td>\n",
       "      <td>99.41%</td>\n",
       "      <td>0.59%</td>\n",
       "    </tr>\n",
       "    <tr>\n",
       "      <td>RUB</td>\n",
       "      <td>99.48%</td>\n",
       "      <td>0.52%</td>\n",
       "    </tr>\n",
       "    <tr>\n",
       "      <td>ILS</td>\n",
       "      <td>99.77%</td>\n",
       "      <td>0.23%</td>\n",
       "    </tr>\n",
       "    <tr>\n",
       "      <td>DKK</td>\n",
       "      <td>99.80%</td>\n",
       "      <td>0.20%</td>\n",
       "    </tr>\n",
       "    <tr>\n",
       "      <td>CAD</td>\n",
       "      <td>99.82%</td>\n",
       "      <td>0.18%</td>\n",
       "    </tr>\n",
       "    <tr>\n",
       "      <td>NOK</td>\n",
       "      <td>99.83%</td>\n",
       "      <td>0.17%</td>\n",
       "    </tr>\n",
       "    <tr>\n",
       "      <td>JPY</td>\n",
       "      <td>99.84%</td>\n",
       "      <td>0.16%</td>\n",
       "    </tr>\n",
       "  </tbody>\n",
       "</table>\n",
       "</div>"
      ],
      "text/plain": [
       "is_fraud      0      1\n",
       "currency              \n",
       "XOF      81.82% 18.18%\n",
       "GBP      97.93%  2.07%\n",
       "AED      98.04%  1.96%\n",
       "MAD      98.42%  1.58%\n",
       "MDL      98.94%  1.06%\n",
       "BRL      99.13%  0.87%\n",
       "SAR      99.22%  0.78%\n",
       "EUR      99.25%  0.75%\n",
       "BTC      99.36%  0.64%\n",
       "UAH      99.41%  0.59%\n",
       "RUB      99.48%  0.52%\n",
       "ILS      99.77%  0.23%\n",
       "DKK      99.80%  0.20%\n",
       "CAD      99.82%  0.18%\n",
       "NOK      99.83%  0.17%\n",
       "JPY      99.84%  0.16%"
      ]
     },
     "execution_count": 130,
     "metadata": {},
     "output_type": "execute_result"
    }
   ],
   "source": [
    "pd.options.display.float_format = '{:,.2f}%'.format\n",
    "counter = df_user_transactions.groupby('currency')['is_fraud'].value_counts().unstack()\n",
    "#calculate the % for each group\n",
    "percentage_dist = 100 * counter.divide(counter.sum(axis = 1), axis = 0)\n",
    "percentage_dist[percentage_dist[1]>0.1].sort_values(1,ascending=False)"
   ]
  },
  {
   "cell_type": "markdown",
   "metadata": {},
   "source": [
    "From the above table we can infer that transactions which are happening in currencies 'XOF','GBP','MDL','AED','MAD' have high fraud rate compared to others."
   ]
  },
  {
   "cell_type": "markdown",
   "metadata": {},
   "source": [
    "### Rare labels:\n",
    "<a id=\"rarelab\"></a>\n",
    "\n",
    "Let's go ahead and investigate now if there are labels that are present only in a small number of transactions. In the next section I discussed how to handle them."
   ]
  },
  {
   "cell_type": "code",
   "execution_count": 131,
   "metadata": {},
   "outputs": [
    {
     "name": "stdout",
     "output_type": "stream",
     "text": [
      "Series([], Name: is_fraud, dtype: float64)\n",
      "\n",
      "Series([], Name: is_fraud, dtype: float64)\n",
      "\n",
      "currency\n",
      "AMD   0.00001\n",
      "AWG   0.00000\n",
      "AZN   0.00001\n",
      "BBD   0.00004\n",
      "BCH   0.00008\n",
      "BDT   0.00001\n",
      "BHD   0.00004\n",
      "BND   0.00000\n",
      "BOB   0.00001\n",
      "BSD   0.00001\n",
      "BWP   0.00000\n",
      "BZD   0.00001\n",
      "CLP   0.00004\n",
      "CRC   0.00008\n",
      "CVE   0.00003\n",
      "DOP   0.00002\n",
      "DZD   0.00000\n",
      "EGP   0.00003\n",
      "ETB   0.00001\n",
      "FJD   0.00000\n",
      "GHS   0.00001\n",
      "GMD   0.00000\n",
      "GTQ   0.00000\n",
      "HNL   0.00000\n",
      "JMD   0.00001\n",
      "JOD   0.00008\n",
      "KES   0.00002\n",
      "KGS   0.00000\n",
      "KZT   0.00001\n",
      "LAK   0.00001\n",
      "LBP   0.00001\n",
      "LKR   0.00003\n",
      "MDL   0.00009\n",
      "MGA   0.00000\n",
      "MMK   0.00001\n",
      "MNT   0.00001\n",
      "MOP   0.00001\n",
      "MUR   0.00002\n",
      "MVR   0.00000\n",
      "MWK   0.00000\n",
      "MZN   0.00001\n",
      "NAD   0.00001\n",
      "NGN   0.00001\n",
      "NPR   0.00001\n",
      "OMR   0.00001\n",
      "PHP   0.00007\n",
      "PKR   0.00001\n",
      "SCR   0.00001\n",
      "SRD   0.00000\n",
      "TND   0.00003\n",
      "TWD   0.00004\n",
      "TZS   0.00002\n",
      "UZS   0.00000\n",
      "VES   0.00000\n",
      "XAF   0.00000\n",
      "XCD   0.00003\n",
      "XOF   0.00002\n",
      "XPF   0.00003\n",
      "ZMW   0.00001\n",
      "Name: is_fraud, dtype: float64\n",
      "\n",
      "country\n",
      "AW   0.00001\n",
      "BL   0.00003\n",
      "BM   0.00002\n",
      "CW   0.00001\n",
      "FK   0.00001\n",
      "GL   0.00002\n",
      "KY   0.00002\n",
      "MF   0.00000\n",
      "PM   0.00000\n",
      "SG   0.00000\n",
      "SX   0.00001\n",
      "US   0.00001\n",
      "VG   0.00001\n",
      "YT   0.00009\n",
      "Name: is_fraud, dtype: float64\n",
      "\n"
     ]
    }
   ],
   "source": [
    "pd.options.display.float_format = '{:,.5f}'.format\n",
    "def analyse_rare_labels(df, var, rare_perc):\n",
    "    df = df.copy()\n",
    "    tmp = df.groupby(var)['is_fraud'].count() / len(df)\n",
    "    return tmp[tmp<rare_perc]\n",
    "\n",
    "for var in cat_vars:\n",
    "    if var not in ['transaction_id','user_id']:\n",
    "        print(analyse_rare_labels(df_user_transactions, var, 0.0001))\n",
    "        print()"
   ]
  },
  {
   "cell_type": "markdown",
   "metadata": {},
   "source": [
    "### References\n",
    "\n",
    "https://developers.google.com/machine-learning/crash-course/classification/roc-and-auc\n",
    "\n",
    "https://stats.stackexchange.com/questions/384833/adjusting-probability-threshold-for-sklearns-logistic-regression-model\n",
    "\n",
    "https://github.com/trainindata/deploying-machine-learning-models\n",
    "\n",
    "https://medium.com/datadriveninvestor/rethinking-the-right-metrics-for-fraud-detection-4edfb629c423"
   ]
  },
  {
   "cell_type": "code",
   "execution_count": null,
   "metadata": {},
   "outputs": [],
   "source": []
  }
 ],
 "metadata": {
  "kernelspec": {
   "display_name": "Python 3",
   "language": "python",
   "name": "python3"
  },
  "language_info": {
   "codemirror_mode": {
    "name": "ipython",
    "version": 3
   },
   "file_extension": ".py",
   "mimetype": "text/x-python",
   "name": "python",
   "nbconvert_exporter": "python",
   "pygments_lexer": "ipython3",
   "version": "3.7.4"
  }
 },
 "nbformat": 4,
 "nbformat_minor": 2
}
